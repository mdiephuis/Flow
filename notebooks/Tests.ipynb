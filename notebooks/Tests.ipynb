{
 "cells": [
  {
   "cell_type": "code",
   "execution_count": null,
   "metadata": {},
   "outputs": [],
   "source": [
    "# copy untitled->test vae\n",
    "# run on gauss\n",
    "# do cuda\n",
    "# test against simple vae\n",
    "# do for multiple channels"
   ]
  },
  {
   "cell_type": "code",
   "execution_count": null,
   "metadata": {},
   "outputs": [],
   "source": [
    "import torch\n",
    "import torch.nn as nn\n",
    "import torch.optim as optim\n",
    "from torch.autograd import Variable\n",
    "from torch.utils.data import DataLoader\n",
    "from torch.utils.data import sampler\n",
    "\n",
    "import torchvision.datasets as dset\n",
    "import torchvision.transforms as T\n",
    "import torch.nn.functional as F\n",
    "\n",
    "import math\n",
    "import numpy as np\n",
    "import pandas as pd\n",
    "import os\n",
    "import glob\n",
    "import tqdm\n",
    "import matplotlib.pyplot as plt\n",
    "import seaborn as sns\n",
    "import sklearn\n",
    "\n",
    "from scipy import misc\n",
    "\n",
    "eps = np.finfo(float).eps\n",
    "\n",
    "plt.rcParams['figure.figsize'] = 10, 10\n",
    "%matplotlib inline\n",
    "\n",
    "\n",
    "%load_ext autoreload\n",
    "%autoreload 2"
   ]
  },
  {
   "cell_type": "code",
   "execution_count": null,
   "metadata": {},
   "outputs": [],
   "source": [
    "# https://github.com/ducha-aiki/ucn-pytorch/blob/master/Utils.py"
   ]
  },
  {
   "cell_type": "code",
   "execution_count": null,
   "metadata": {},
   "outputs": [],
   "source": [
    "def gauss_kernel2(k_size=5, sigma=1.0):\n",
    "    if k_size % 2 != 1:\n",
    "        raise ValueError(\"kernel size must be uneven\")\n",
    "    \n",
    "    x = np.linspace(- k_size / 2, k_size / 2, k_size)\n",
    "    xv, yv = np.meshgrid(x, x, sparse=False, indexing='xy')\n",
    "    distsq = (xv)**2 + (yv)**2\n",
    "    denom = 2.0 * sigma ** 2\n",
    "    kernel = np.exp(-distsq / denom)\n",
    "    kernel /= np.sum(kernel)\n",
    "    return kernel\n",
    "\n",
    "\n",
    "def gauss_kernel3(k_size=5, sigma=1.0):\n",
    "    if k_size % 2 != 1:\n",
    "        raise ValueError(\"kernel size must be uneven\")\n",
    "    \n",
    "    x = torch.linspace(- k_size / 2, k_size / 2, k_size)\n",
    "    grid = torch.stack([x.repeat(k_size, 1).t().contiguous().view(-1), x.repeat(k_size)], 1)\n",
    "\n",
    "    distsq = torch.pow(grid[:, 0], 2) + torch.pow(grid[:, 1], 2)\n",
    "    denom = torch.pow(torch.Tensor([sigma]), 2) * 2.0\n",
    "    kernel = torch.exp(- distsq / denom)\n",
    "    kernel /= torch.sum(kernel)\n",
    "    kernel = torch.reshape(kernel, (k_size, k_size))\n",
    "    return kernel\n",
    "\n",
    "\n",
    "def log_kernel(k_size=5, sigma=1.0):\n",
    "\n",
    "    x = torch.linspace(- k_size / 2, k_size / 2, k_size)\n",
    "    grid = torch.stack([x.repeat(k_size, 1).t().contiguous().view(-1), x.repeat(k_size)], 1)\n",
    "\n",
    "    distsq = torch.pow(grid[:, 0], 2) + torch.pow(grid[:, 1], 2)\n",
    "\n",
    "    gauss_denom = torch.pow(torch.Tensor([sigma]), 2) * 2.0\n",
    "    gauss_kernel = torch.exp(- distsq / gauss_denom)\n",
    "\n",
    "    nom = (distsq - (torch.pow(torch.Tensor([sigma]), 2) * 2.0)) * gauss_kernel\n",
    "    denom = torch.pow(torch.Tensor([sigma]), 4) * torch.sum(gauss_kernel)\n",
    "    kernel = nom / denom\n",
    "    kernel = torch.reshape(kernel, (k_size, k_size))\n",
    "    return kernel"
   ]
  },
  {
   "cell_type": "code",
   "execution_count": null,
   "metadata": {},
   "outputs": [],
   "source": [
    "from scipy import misc\n",
    "im = misc.face()[:, :, 0]\n",
    "im = torch.from_numpy(im[np.newaxis, np.newaxis, :, :])\n",
    "print(im.size())\n",
    "\n",
    "n_batch, n_channel, h, w = im.shape\n",
    "kernel2 = gauss_kernel2()\n",
    "kernel3 = gauss_kernel3()\n",
    "kernel4 = log_kernel()\n",
    "\n",
    "plt.rcParams['figure.figsize'] = 8, 8\n",
    "with sns.axes_style('white'):\n",
    "    fig, axis = plt.subplots(nrows=1, ncols=3)\n",
    "    \n",
    "    axis[0].imshow(kernel2, cmap='viridis')\n",
    "    axis[0].set_title('')\n",
    "    \n",
    "    axis[1].imshow(kernel3.cpu().numpy(), cmap='viridis')\n",
    "    axis[1].set_title('')\n",
    "    \n",
    "    axis[2].imshow(kernel4.cpu().numpy(), cmap='viridis')\n",
    "    axis[2].set_title('')"
   ]
  },
  {
   "cell_type": "code",
   "execution_count": null,
   "metadata": {},
   "outputs": [],
   "source": [
    "from scipy import misc\n",
    "im = misc.face()[:, :, 0]\n",
    "plt.imshow(im, cmap='gray')"
   ]
  },
  {
   "cell_type": "code",
   "execution_count": null,
   "metadata": {},
   "outputs": [],
   "source": [
    "kw, kh = 15, 15\n",
    "k_size=15\n",
    "sigma=4.0\n",
    "\n",
    "kernel = gauss_kernel3(k_size, sigma)\n",
    "kernel = kernel.unsqueeze(0).unsqueeze(0)\n",
    "\n",
    "im_org = misc.face()[:, :, 0]\n",
    "n_channels = 1\n",
    "im = torch.from_numpy(im_org[np.newaxis, np.newaxis, :, :]).type(torch.FloatTensor)\n",
    "f_pad = nn.ReplicationPad2d((kw // 2, kw // 2, kh // 2, kh // 2))\n",
    "im = f_pad(im)\n",
    "# img = F.pad(im, (0, 0, kw // 2, kh // 2), mode='replicate')\n",
    "conv_img = F.conv2d(im, kernel)\n",
    "\n",
    "current_img = F.avg_pool2d(conv_img, 2)"
   ]
  },
  {
   "cell_type": "code",
   "execution_count": null,
   "metadata": {},
   "outputs": [],
   "source": [
    "plt.rcParams['figure.figsize'] = 12, 12\n",
    "with sns.axes_style('white'):\n",
    "    fig, axis = plt.subplots(nrows=1, ncols=3)\n",
    "    \n",
    "    axis[0].imshow(im_org, cmap='gray')\n",
    "    axis[0].set_title('')\n",
    "    \n",
    "    axis[1].imshow(conv_img.squeeze(0).squeeze(0).cpu().numpy(), cmap='gray')\n",
    "    axis[1].set_title('')\n",
    "    \n",
    "    axis[2].imshow(current_img.squeeze(0).squeeze(0).cpu().numpy(), cmap='gray')\n",
    "    axis[2].set_title('')"
   ]
  },
  {
   "cell_type": "markdown",
   "metadata": {},
   "source": [
    "### Curr implementation"
   ]
  },
  {
   "cell_type": "code",
   "execution_count": null,
   "metadata": {},
   "outputs": [],
   "source": [
    "def gauss_kernel(k_size=5, sigma=1.0, use_cuda=False):\n",
    "    if k_size % 2 != 1:\n",
    "        raise ValueError(\"kernel size must be uneven\")\n",
    "\n",
    "    x = torch.linspace(- k_size / 2, k_size / 2, k_size)\n",
    "    grid = torch.stack([x.repeat(k_size, 1).t().contiguous().view(-1), x.repeat(k_size)], 1)\n",
    "\n",
    "    distsq = torch.pow(grid[:, 0], 2) + torch.pow(grid[:, 1], 2)\n",
    "    denom = torch.pow(torch.Tensor([sigma]), 2) * 2.0\n",
    "    kernel = torch.exp(- distsq / denom)\n",
    "    kernel /= torch.sum(kernel)\n",
    "    kernel = torch.reshape(kernel, (k_size, k_size))\n",
    "    kernel = kernel.cuda() if use_cuda else kernel\n",
    "    return kernel\n",
    "\n",
    "\n",
    "def dog_pyramid(im, n_levels=5, k_size=15, sigma=4.0, use_cuda=False):\n",
    "\n",
    "    kernel = gauss_kernel(k_size, sigma, use_cuda)\n",
    "    kernel = kernel.unsqueeze(0).unsqueeze(0)\n",
    "\n",
    "    func_pad = nn.ReplicationPad2d((k_size // 2, k_size // 2, k_size // 2, k_size // 2))\n",
    "    curr_im = im\n",
    "    n_levels = 5\n",
    "    log_pyr = []\n",
    "    for i in range(n_levels):\n",
    "        conv_im = F.conv2d(func_pad(curr_im), kernel)\n",
    "        diff = curr_im - conv_im\n",
    "        log_pyr.append(diff)\n",
    "        curr_im = F.avg_pool2d(conv_im, 2)\n",
    "\n",
    "    return log_pyr\n",
    "\n",
    "\n",
    "def loss_dog(im1, im2, n_levels=5, k_size=5, sigma=2.0, use_cuda=False):\n",
    "    pyramid_im1 = dog_pyramid(im1, n_levels, k_size, sigma, use_cuda)\n",
    "    pyramid_im2 = dog_pyramid(im2, n_levels, k_size, sigma, use_cuda)\n",
    "    return sum(F.l1_loss(a, b) for a, b in zip(pyramid_im1, pyramid_im2)) / n_levels"
   ]
  },
  {
   "cell_type": "code",
   "execution_count": null,
   "metadata": {},
   "outputs": [],
   "source": [
    "if torch.cuda.is_available():\n",
    "    use_cuda = True\n",
    "    dtype = torch.cuda.FloatTensor\n",
    "    device = torch.device(\"cuda:0\")\n",
    "    print('GPU')\n",
    "else:\n",
    "    use_cuda = False\n",
    "    dtype = torch.FloatTensor\n",
    "    device = torch.device(\"cpu\")"
   ]
  },
  {
   "cell_type": "code",
   "execution_count": null,
   "metadata": {},
   "outputs": [],
   "source": [
    "im_org = misc.face()[:, :, 0]\n",
    "im1 = torch.from_numpy(im_org[np.newaxis, np.newaxis, :, :]).type(dtype)\n",
    "im2 = torch.from_numpy(im_org[np.newaxis, np.newaxis, :, :]).type(dtype)\n",
    "im2 = im2 + torch.randn_like(im2)\n",
    "\n",
    "log_pyr = dog_pyramid(im1, 5, 15, 4.0, use_cuda)\n",
    "\n",
    "loss_lap = loss_dog(im1, im2, 5, 15, 4.0, use_cuda)\n",
    "print('L1 laplacian loss {}'.format(loss_lap))"
   ]
  },
  {
   "cell_type": "code",
   "execution_count": null,
   "metadata": {},
   "outputs": [],
   "source": [
    "plt.rcParams['figure.figsize'] = 6, 6\n",
    "for t_im in log_pyr:\n",
    "    plt.imshow(t_im.squeeze(0).squeeze(0).cpu().numpy(), cmap='gray')\n",
    "    plt.show()"
   ]
  },
  {
   "cell_type": "code",
   "execution_count": null,
   "metadata": {},
   "outputs": [],
   "source": []
  },
  {
   "cell_type": "code",
   "execution_count": null,
   "metadata": {},
   "outputs": [],
   "source": [
    "def normalize(x):\n",
    "    min_x = np.min(x)\n",
    "    max_x = np.max(x)\n",
    "    return -1 + (2.0 / (max_x - min_x) * (x - min_x))\n",
    "\n",
    "x = np.random.randn(200)\n",
    "xn = normalize(x)\n",
    "\n",
    "z = np.random.randn(200) * 0.1\n",
    "z = normalize(z)\n",
    "y = xn + z\n",
    "\n",
    "plt.rcParams['figure.figsize'] = 8, 4\n",
    "sns.set()\n",
    "fig, axis = plt.subplots(nrows=1, ncols=2)    \n",
    "sns.distplot(xn, ax = axis[0])\n",
    "sns.distplot(y, ax = axis[1])\n"
   ]
  },
  {
   "cell_type": "code",
   "execution_count": null,
   "metadata": {},
   "outputs": [],
   "source": []
  },
  {
   "cell_type": "code",
   "execution_count": null,
   "metadata": {},
   "outputs": [],
   "source": [
    "a = torch.randn(150, 10)\n",
    "b = torch.randn(150, 10) * 2.5 + 4\n",
    "\n",
    "labels = np.hstack((np.ones(150, ), np.zeros(150, )))\n",
    "x = torch.cat((a, b))\n",
    "bx = torch.stack((a, b), dim=0)"
   ]
  },
  {
   "cell_type": "code",
   "execution_count": null,
   "metadata": {},
   "outputs": [],
   "source": [
    "bx.size()"
   ]
  },
  {
   "cell_type": "code",
   "execution_count": null,
   "metadata": {},
   "outputs": [],
   "source": [
    "def pca_project(x, num_elem=2):\n",
    "\n",
    "    if isinstance(x, torch.Tensor) and len(x.size()) == 3:\n",
    "        batch_proj = []\n",
    "        for batch_ind in range(x.size(0)):\n",
    "            tensor_proj = pca_project(x[batch_ind].squeeze(0), num_elem)\n",
    "            batch_proj.append(tensor_proj)\n",
    "        return torch.cat(batch_proj)\n",
    "    \n",
    "    xm = x - torch.mean(x, 1, keepdim=True)\n",
    "    xx = torch.matmul(xm, torch.transpose(xm, 0, -1))\n",
    "    u, s, _ = torch.svd(xx)\n",
    "    x_proj = torch.matmul(u[:, 0:num_elem], torch.diag(s[0:num_elem]))\n",
    "    return x_proj"
   ]
  },
  {
   "cell_type": "code",
   "execution_count": null,
   "metadata": {},
   "outputs": [],
   "source": [
    "x_proj = pca_project(x, 2)\n",
    "xb_proj = pca_project(bx, 2)\n",
    "\n"
   ]
  },
  {
   "cell_type": "code",
   "execution_count": null,
   "metadata": {},
   "outputs": [],
   "source": [
    "plt.scatter(x_proj[:, 0], x_proj[:, 1], c=labels)\n",
    "plt.show()"
   ]
  },
  {
   "cell_type": "code",
   "execution_count": null,
   "metadata": {},
   "outputs": [],
   "source": [
    "plt.scatter(xb_proj[:, 0], xb_proj[:, 1], c=labels)\n",
    "plt.show()"
   ]
  },
  {
   "cell_type": "code",
   "execution_count": null,
   "metadata": {},
   "outputs": [],
   "source": []
  }
 ],
 "metadata": {
  "kernelspec": {
   "display_name": "Python 3",
   "language": "python",
   "name": "python3"
  },
  "language_info": {
   "codemirror_mode": {
    "name": "ipython",
    "version": 3
   },
   "file_extension": ".py",
   "mimetype": "text/x-python",
   "name": "python",
   "nbconvert_exporter": "python",
   "pygments_lexer": "ipython3",
   "version": "3.6.7"
  }
 },
 "nbformat": 4,
 "nbformat_minor": 2
}
